{
  "cells": [
    {
      "cell_type": "code",
      "execution_count": null,
      "metadata": {
        "id": "Gl9bWirhreIb"
      },
      "outputs": [],
      "source": [
        "import glob\n",
        "import os\n",
        "import librosa\n",
        "import time\n",
        "import numpy as np\n",
        "import pandas as pd\n",
        "from google.colab import drive"
      ]
    },
    {
      "cell_type": "code",
      "execution_count": null,
      "metadata": {
        "id": "RVy3DBEHB4wE"
      },
      "outputs": [],
      "source": [
        "\n",
        "import soundfile\n",
        "import pickle\n",
        "from sklearn.model_selection import train_test_split\n",
        "from sklearn.metrics import accuracy_score"
      ]
    },
    {
      "cell_type": "code",
      "execution_count": null,
      "metadata": {
        "id": "w-21kbbJB8vN"
      },
      "outputs": [],
      "source": [
        "!pip install librosa soundfile numpy sklearn pyaudio\n",
        "!pip install soundfile"
      ]
    },
    {
      "cell_type": "code",
      "execution_count": null,
      "metadata": {
        "id": "CMPDFOeARK02"
      },
      "outputs": [],
      "source": [
        "drive.mount('/content/drive')\n",
        "mylist= os.listdir('/content/drive/MyDrive/Speech_Emotion_Dataset')"
      ]
    },
    {
      "cell_type": "code",
      "execution_count": null,
      "metadata": {
        "id": "Dc674hdusY02"
      },
      "outputs": [],
      "source": [
        "emotions={\n",
        "  '01':'neutral',\n",
        "  '02':'calm',\n",
        "  '03':'happy',\n",
        "  '04':'sad',\n",
        "  '05':'angry',\n",
        "  '06':'fear',\n",
        "  '07':'disgust',\n",
        "  '08':'surprised'\n",
        "}\n",
        "\n",
        "observed_emotions = ['sad','angry','happy','disgust','surprised','neutral','calm','fear']"
      ]
    },
    {
      "cell_type": "code",
      "execution_count": null,
      "metadata": {
        "id": "6J7_Y8ZgOgF7"
      },
      "outputs": [],
      "source": [
        "def extract_feature(file_name, mfcc):\n",
        "    X, sample_rate = librosa.load(os.path.join(file_name), res_type='kaiser_fast')\n",
        "    result=np.array([])\n",
        "    if mfcc:\n",
        "        mfccs=np.mean(librosa.feature.mfcc(y=X, sr=sample_rate, n_mfcc=40).T, axis=0)\n",
        "        result=np.hstack((result, mfccs))\n",
        "    return result"
      ]
    },
    {
      "cell_type": "code",
      "execution_count": null,
      "metadata": {
        "id": "eBfgKhfTOgrU"
      },
      "outputs": [],
      "source": [
        "def dataset_options():\n",
        "    # choose datasets\n",
        "    ravdess = True\n",
        "    tess = True\n",
        "    data = {'ravdess':ravdess, 'tess':tess}\n",
        "    print(data)\n",
        "    return data"
      ]
    },
    {
      "cell_type": "code",
      "execution_count": null,
      "metadata": {
        "id": "JtMFCjahy4mA"
      },
      "outputs": [],
      "source": [
        "def load_data(test_size=0.2): \n",
        "    x,y=[],[]\n",
        "    # feature to extract\n",
        "    mfcc = True\n",
        "    data = dataset_options()\n",
        "    paths = []\n",
        "    for file in glob.glob(\"/content/drive/MyDrive/Speech_Emotion_Dataset/RAVDESS/Actor_*/*.wav\"):\n",
        "      file_name=os.path.basename(file)\n",
        "      emotion=emotions[file_name.split(\"-\")[2]] #to get emotion according to filename. dictionary emotions is defined above.\n",
        "      if emotion not in observed_emotions:\n",
        "        continue\n",
        "      feature=extract_feature(file, mfcc)\n",
        "      x.append(feature)\n",
        "      y.append(emotion)\n",
        "      #print(emotion)\n",
        "    for file in glob.glob(\"/content/drive/MyDrive/Speech_Emotion_Dataset/TESS/*AF_*/*.wav\"):\n",
        "      file_name=os.path.basename(file)\n",
        "      emotion=file_name.split(\"_\")[2][:-4] #split and remove .wav\n",
        "      if emotion == 'ps':\n",
        "        emotion = 'surprised'\n",
        "      if emotion not in observed_emotions:\n",
        "        continue\n",
        "      feature=extract_feature(file, mfcc)\n",
        "      x.append(feature)\n",
        "      y.append(emotion)\n",
        "    return {\"X\":x,\"y\":y}"
      ]
    },
    {
      "cell_type": "code",
      "execution_count": null,
      "metadata": {
        "colab": {
          "base_uri": "https://localhost:8080/"
        },
        "id": "G50e3PwSy4jt",
        "outputId": "dc007d61-946e-46c4-e674-85107d61db9a"
      },
      "outputs": [
        {
          "name": "stdout",
          "output_type": "stream",
          "text": [
            "--- Data loaded. Loading time: 1078.7360014915466 seconds ---\n"
          ]
        }
      ],
      "source": [
        "start_time = time.time()\n",
        "\n",
        "Trial_dict = load_data(test_size = 0.3)\n",
        "\n",
        "print(\"--- Data loaded. Loading time: %s seconds ---\" % (time.time() - start_time))"
      ]
    },
    {
      "cell_type": "code",
      "execution_count": null,
      "metadata": {
        "id": "H5dAAbE3y4hg"
      },
      "outputs": [],
      "source": [
        "X = pd.DataFrame(Trial_dict[\"X\"])\n",
        "y = pd.DataFrame(Trial_dict[\"y\"])"
      ]
    },
    {
      "cell_type": "code",
      "execution_count": null,
      "metadata": {
        "colab": {
          "base_uri": "https://localhost:8080/"
        },
        "id": "f5n6SyIxy4e8",
        "outputId": "ae3e644e-19fe-452d-dc96-7a817cd95495"
      },
      "outputs": [
        {
          "data": {
            "text/plain": [
              "((4240, 40), (4240, 1))"
            ]
          },
          "execution_count": 11,
          "metadata": {},
          "output_type": "execute_result"
        }
      ],
      "source": [
        "X.shape, y.shape"
      ]
    },
    {
      "cell_type": "code",
      "execution_count": null,
      "metadata": {
        "id": "rEJLcUmfy4cj"
      },
      "outputs": [],
      "source": [
        "#renaming the label column to emotion\n",
        "y=y.rename(columns= {0: 'emotion'})"
      ]
    },
    {
      "cell_type": "code",
      "execution_count": null,
      "metadata": {
        "id": "r8znRKyA0QIu"
      },
      "outputs": [],
      "source": [
        "#concatinating the attributes and label into a single dataframe\n",
        "data = pd.concat([X, y], axis =1)"
      ]
    },
    {
      "cell_type": "code",
      "execution_count": null,
      "metadata": {
        "colab": {
          "base_uri": "https://localhost:8080/",
          "height": 299
        },
        "id": "zY86DcP_0QF7",
        "outputId": "269eeed6-74fa-47e6-ce9b-ea7fbec3727f"
      },
      "outputs": [
        {
          "data": {
            "text/html": [
              "\n",
              "  <div id=\"df-95886e20-87d5-43e5-9324-7cb4d9c875c3\">\n",
              "    <div class=\"colab-df-container\">\n",
              "      <div>\n",
              "<style scoped>\n",
              "    .dataframe tbody tr th:only-of-type {\n",
              "        vertical-align: middle;\n",
              "    }\n",
              "\n",
              "    .dataframe tbody tr th {\n",
              "        vertical-align: top;\n",
              "    }\n",
              "\n",
              "    .dataframe thead th {\n",
              "        text-align: right;\n",
              "    }\n",
              "</style>\n",
              "<table border=\"1\" class=\"dataframe\">\n",
              "  <thead>\n",
              "    <tr style=\"text-align: right;\">\n",
              "      <th></th>\n",
              "      <th>0</th>\n",
              "      <th>1</th>\n",
              "      <th>2</th>\n",
              "      <th>3</th>\n",
              "      <th>4</th>\n",
              "      <th>5</th>\n",
              "      <th>6</th>\n",
              "      <th>7</th>\n",
              "      <th>8</th>\n",
              "      <th>9</th>\n",
              "      <th>...</th>\n",
              "      <th>31</th>\n",
              "      <th>32</th>\n",
              "      <th>33</th>\n",
              "      <th>34</th>\n",
              "      <th>35</th>\n",
              "      <th>36</th>\n",
              "      <th>37</th>\n",
              "      <th>38</th>\n",
              "      <th>39</th>\n",
              "      <th>emotion</th>\n",
              "    </tr>\n",
              "  </thead>\n",
              "  <tbody>\n",
              "    <tr>\n",
              "      <th>0</th>\n",
              "      <td>-709.656799</td>\n",
              "      <td>40.046787</td>\n",
              "      <td>-12.663892</td>\n",
              "      <td>14.289744</td>\n",
              "      <td>-11.523742</td>\n",
              "      <td>-4.713324</td>\n",
              "      <td>-11.006041</td>\n",
              "      <td>-7.780188</td>\n",
              "      <td>-9.738142</td>\n",
              "      <td>-0.064098</td>\n",
              "      <td>...</td>\n",
              "      <td>0.564891</td>\n",
              "      <td>-0.604778</td>\n",
              "      <td>0.412333</td>\n",
              "      <td>0.832660</td>\n",
              "      <td>0.648054</td>\n",
              "      <td>-0.401480</td>\n",
              "      <td>-1.567444</td>\n",
              "      <td>-1.947383</td>\n",
              "      <td>-0.122873</td>\n",
              "      <td>neutral</td>\n",
              "    </tr>\n",
              "    <tr>\n",
              "      <th>1</th>\n",
              "      <td>-712.722839</td>\n",
              "      <td>37.307137</td>\n",
              "      <td>-9.962419</td>\n",
              "      <td>11.135132</td>\n",
              "      <td>-10.132971</td>\n",
              "      <td>-3.654114</td>\n",
              "      <td>-12.161099</td>\n",
              "      <td>-8.386430</td>\n",
              "      <td>-7.812816</td>\n",
              "      <td>-1.021640</td>\n",
              "      <td>...</td>\n",
              "      <td>1.387298</td>\n",
              "      <td>0.977230</td>\n",
              "      <td>2.593780</td>\n",
              "      <td>0.494666</td>\n",
              "      <td>0.580458</td>\n",
              "      <td>-1.125470</td>\n",
              "      <td>0.051879</td>\n",
              "      <td>-0.338575</td>\n",
              "      <td>0.202539</td>\n",
              "      <td>neutral</td>\n",
              "    </tr>\n",
              "    <tr>\n",
              "      <th>2</th>\n",
              "      <td>-730.511536</td>\n",
              "      <td>44.470074</td>\n",
              "      <td>-6.104879</td>\n",
              "      <td>11.642843</td>\n",
              "      <td>-8.931446</td>\n",
              "      <td>-2.112169</td>\n",
              "      <td>-10.754205</td>\n",
              "      <td>-7.132568</td>\n",
              "      <td>-7.912855</td>\n",
              "      <td>-0.257285</td>\n",
              "      <td>...</td>\n",
              "      <td>2.885748</td>\n",
              "      <td>0.911373</td>\n",
              "      <td>1.183251</td>\n",
              "      <td>0.024331</td>\n",
              "      <td>-0.220987</td>\n",
              "      <td>-0.444178</td>\n",
              "      <td>0.156907</td>\n",
              "      <td>0.166603</td>\n",
              "      <td>0.989647</td>\n",
              "      <td>neutral</td>\n",
              "    </tr>\n",
              "    <tr>\n",
              "      <th>3</th>\n",
              "      <td>-719.257080</td>\n",
              "      <td>39.715313</td>\n",
              "      <td>-10.153728</td>\n",
              "      <td>12.015521</td>\n",
              "      <td>-10.139829</td>\n",
              "      <td>-3.085211</td>\n",
              "      <td>-10.823732</td>\n",
              "      <td>-7.937528</td>\n",
              "      <td>-8.334857</td>\n",
              "      <td>-1.391561</td>\n",
              "      <td>...</td>\n",
              "      <td>3.010237</td>\n",
              "      <td>2.001823</td>\n",
              "      <td>2.259433</td>\n",
              "      <td>2.297656</td>\n",
              "      <td>3.266330</td>\n",
              "      <td>2.130972</td>\n",
              "      <td>1.328138</td>\n",
              "      <td>-1.284988</td>\n",
              "      <td>-1.071648</td>\n",
              "      <td>neutral</td>\n",
              "    </tr>\n",
              "    <tr>\n",
              "      <th>4</th>\n",
              "      <td>-487.759247</td>\n",
              "      <td>36.763618</td>\n",
              "      <td>-42.028095</td>\n",
              "      <td>2.749288</td>\n",
              "      <td>-21.191448</td>\n",
              "      <td>-15.117384</td>\n",
              "      <td>-14.915025</td>\n",
              "      <td>-16.424610</td>\n",
              "      <td>-15.434681</td>\n",
              "      <td>-2.373158</td>\n",
              "      <td>...</td>\n",
              "      <td>1.616179</td>\n",
              "      <td>-0.217549</td>\n",
              "      <td>1.289088</td>\n",
              "      <td>2.126529</td>\n",
              "      <td>2.677948</td>\n",
              "      <td>-0.160821</td>\n",
              "      <td>-1.883824</td>\n",
              "      <td>-0.160466</td>\n",
              "      <td>0.429813</td>\n",
              "      <td>happy</td>\n",
              "    </tr>\n",
              "  </tbody>\n",
              "</table>\n",
              "<p>5 rows × 41 columns</p>\n",
              "</div>\n",
              "      <button class=\"colab-df-convert\" onclick=\"convertToInteractive('df-95886e20-87d5-43e5-9324-7cb4d9c875c3')\"\n",
              "              title=\"Convert this dataframe to an interactive table.\"\n",
              "              style=\"display:none;\">\n",
              "        \n",
              "  <svg xmlns=\"http://www.w3.org/2000/svg\" height=\"24px\"viewBox=\"0 0 24 24\"\n",
              "       width=\"24px\">\n",
              "    <path d=\"M0 0h24v24H0V0z\" fill=\"none\"/>\n",
              "    <path d=\"M18.56 5.44l.94 2.06.94-2.06 2.06-.94-2.06-.94-.94-2.06-.94 2.06-2.06.94zm-11 1L8.5 8.5l.94-2.06 2.06-.94-2.06-.94L8.5 2.5l-.94 2.06-2.06.94zm10 10l.94 2.06.94-2.06 2.06-.94-2.06-.94-.94-2.06-.94 2.06-2.06.94z\"/><path d=\"M17.41 7.96l-1.37-1.37c-.4-.4-.92-.59-1.43-.59-.52 0-1.04.2-1.43.59L10.3 9.45l-7.72 7.72c-.78.78-.78 2.05 0 2.83L4 21.41c.39.39.9.59 1.41.59.51 0 1.02-.2 1.41-.59l7.78-7.78 2.81-2.81c.8-.78.8-2.07 0-2.86zM5.41 20L4 18.59l7.72-7.72 1.47 1.35L5.41 20z\"/>\n",
              "  </svg>\n",
              "      </button>\n",
              "      \n",
              "  <style>\n",
              "    .colab-df-container {\n",
              "      display:flex;\n",
              "      flex-wrap:wrap;\n",
              "      gap: 12px;\n",
              "    }\n",
              "\n",
              "    .colab-df-convert {\n",
              "      background-color: #E8F0FE;\n",
              "      border: none;\n",
              "      border-radius: 50%;\n",
              "      cursor: pointer;\n",
              "      display: none;\n",
              "      fill: #1967D2;\n",
              "      height: 32px;\n",
              "      padding: 0 0 0 0;\n",
              "      width: 32px;\n",
              "    }\n",
              "\n",
              "    .colab-df-convert:hover {\n",
              "      background-color: #E2EBFA;\n",
              "      box-shadow: 0px 1px 2px rgba(60, 64, 67, 0.3), 0px 1px 3px 1px rgba(60, 64, 67, 0.15);\n",
              "      fill: #174EA6;\n",
              "    }\n",
              "\n",
              "    [theme=dark] .colab-df-convert {\n",
              "      background-color: #3B4455;\n",
              "      fill: #D2E3FC;\n",
              "    }\n",
              "\n",
              "    [theme=dark] .colab-df-convert:hover {\n",
              "      background-color: #434B5C;\n",
              "      box-shadow: 0px 1px 3px 1px rgba(0, 0, 0, 0.15);\n",
              "      filter: drop-shadow(0px 1px 2px rgba(0, 0, 0, 0.3));\n",
              "      fill: #FFFFFF;\n",
              "    }\n",
              "  </style>\n",
              "\n",
              "      <script>\n",
              "        const buttonEl =\n",
              "          document.querySelector('#df-95886e20-87d5-43e5-9324-7cb4d9c875c3 button.colab-df-convert');\n",
              "        buttonEl.style.display =\n",
              "          google.colab.kernel.accessAllowed ? 'block' : 'none';\n",
              "\n",
              "        async function convertToInteractive(key) {\n",
              "          const element = document.querySelector('#df-95886e20-87d5-43e5-9324-7cb4d9c875c3');\n",
              "          const dataTable =\n",
              "            await google.colab.kernel.invokeFunction('convertToInteractive',\n",
              "                                                     [key], {});\n",
              "          if (!dataTable) return;\n",
              "\n",
              "          const docLinkHtml = 'Like what you see? Visit the ' +\n",
              "            '<a target=\"_blank\" href=https://colab.research.google.com/notebooks/data_table.ipynb>data table notebook</a>'\n",
              "            + ' to learn more about interactive tables.';\n",
              "          element.innerHTML = '';\n",
              "          dataTable['output_type'] = 'display_data';\n",
              "          await google.colab.output.renderOutput(dataTable, element);\n",
              "          const docLink = document.createElement('div');\n",
              "          docLink.innerHTML = docLinkHtml;\n",
              "          element.appendChild(docLink);\n",
              "        }\n",
              "      </script>\n",
              "    </div>\n",
              "  </div>\n",
              "  "
            ],
            "text/plain": [
              "            0          1          2          3          4          5  \\\n",
              "0 -709.656799  40.046787 -12.663892  14.289744 -11.523742  -4.713324   \n",
              "1 -712.722839  37.307137  -9.962419  11.135132 -10.132971  -3.654114   \n",
              "2 -730.511536  44.470074  -6.104879  11.642843  -8.931446  -2.112169   \n",
              "3 -719.257080  39.715313 -10.153728  12.015521 -10.139829  -3.085211   \n",
              "4 -487.759247  36.763618 -42.028095   2.749288 -21.191448 -15.117384   \n",
              "\n",
              "           6          7          8         9  ...        31        32  \\\n",
              "0 -11.006041  -7.780188  -9.738142 -0.064098  ...  0.564891 -0.604778   \n",
              "1 -12.161099  -8.386430  -7.812816 -1.021640  ...  1.387298  0.977230   \n",
              "2 -10.754205  -7.132568  -7.912855 -0.257285  ...  2.885748  0.911373   \n",
              "3 -10.823732  -7.937528  -8.334857 -1.391561  ...  3.010237  2.001823   \n",
              "4 -14.915025 -16.424610 -15.434681 -2.373158  ...  1.616179 -0.217549   \n",
              "\n",
              "         33        34        35        36        37        38        39  \\\n",
              "0  0.412333  0.832660  0.648054 -0.401480 -1.567444 -1.947383 -0.122873   \n",
              "1  2.593780  0.494666  0.580458 -1.125470  0.051879 -0.338575  0.202539   \n",
              "2  1.183251  0.024331 -0.220987 -0.444178  0.156907  0.166603  0.989647   \n",
              "3  2.259433  2.297656  3.266330  2.130972  1.328138 -1.284988 -1.071648   \n",
              "4  1.289088  2.126529  2.677948 -0.160821 -1.883824 -0.160466  0.429813   \n",
              "\n",
              "   emotion  \n",
              "0  neutral  \n",
              "1  neutral  \n",
              "2  neutral  \n",
              "3  neutral  \n",
              "4    happy  \n",
              "\n",
              "[5 rows x 41 columns]"
            ]
          },
          "execution_count": 14,
          "metadata": {},
          "output_type": "execute_result"
        }
      ],
      "source": [
        "data.head()"
      ]
    },
    {
      "cell_type": "code",
      "execution_count": null,
      "metadata": {
        "colab": {
          "base_uri": "https://localhost:8080/"
        },
        "id": "frAxXXKEnCnw",
        "outputId": "f8678c1d-0033-4aaf-bc37-a667de2cb880"
      },
      "outputs": [
        {
          "data": {
            "text/plain": [
              "Index([        0,         1,         2,         3,         4,         5,\n",
              "               6,         7,         8,         9,        10,        11,\n",
              "              12,        13,        14,        15,        16,        17,\n",
              "              18,        19,        20,        21,        22,        23,\n",
              "              24,        25,        26,        27,        28,        29,\n",
              "              30,        31,        32,        33,        34,        35,\n",
              "              36,        37,        38,        39, 'emotion'],\n",
              "      dtype='object')"
            ]
          },
          "execution_count": 15,
          "metadata": {},
          "output_type": "execute_result"
        }
      ],
      "source": [
        "data.columns"
      ]
    },
    {
      "cell_type": "code",
      "execution_count": null,
      "metadata": {
        "id": "u_OdGOOv0QDW"
      },
      "outputs": [],
      "source": [
        "#reindexing to shuffle the data at random\n",
        "data = data.reindex(np.random.permutation(data.index))"
      ]
    },
    {
      "cell_type": "code",
      "execution_count": null,
      "metadata": {
        "id": "72k0GNnZ0Uz8"
      },
      "outputs": [],
      "source": [
        "# Storing shuffled ravdess and tess data to avoid loading again\n",
        "data.to_csv(\"DATASET_MFCC_Features.csv\")"
      ]
    },
    {
      "cell_type": "code",
      "execution_count": null,
      "metadata": {
        "colab": {
          "base_uri": "https://localhost:8080/"
        },
        "id": "WEGtHcDuVDYQ",
        "outputId": "beb5a306-2b0b-4bc9-d228-ce6fd5867674"
      },
      "outputs": [
        {
          "name": "stdout",
          "output_type": "stream",
          "text": [
            "   Unnamed: 0           0          1          2          3          4  \\\n",
            "0        2576 -311.539459  38.815189 -25.405521  32.583420 -18.065561   \n",
            "1        3718 -387.044586  61.524803 -11.668876   2.633571 -19.539165   \n",
            "2        2811 -348.538940  13.725370  -5.922719  17.895178 -28.636814   \n",
            "3         245 -654.800598  63.572536  -3.336874  12.813547   6.590154   \n",
            "4        1423 -533.863159  62.632484 -20.536186  11.959706  -5.393752   \n",
            "\n",
            "          5          6          7          8  ...        31        32  \\\n",
            "0 -4.946988 -19.265636 -11.036897   0.618637  ...  5.757514  9.483214   \n",
            "1  7.810312 -29.962536  -6.673272 -23.859554  ...  0.230955  9.085365   \n",
            "2  4.418348  -6.295747  -5.479540 -14.395909  ...  8.861150  6.953389   \n",
            "3  3.107066  -5.813488  -1.849328 -11.161559  ... -1.021406 -4.232877   \n",
            "4 -1.373584 -15.795280  -4.240396  -6.763741  ... -0.664808  0.435301   \n",
            "\n",
            "         33        34        35        36        37        38        39  \\\n",
            "0  6.530617 -0.125285 -1.135977  1.372565  1.237239 -5.927721 -5.743854   \n",
            "1  6.802002  9.614756 -0.695983  1.105342  5.671445  6.201981  2.517218   \n",
            "2  5.419578  5.453428  8.463305  4.961172  5.082248  1.065210  0.397967   \n",
            "3 -3.221423 -2.872986 -0.769325  0.385758  0.042140 -0.107771 -1.761658   \n",
            "4  0.592848  0.705128  1.940429 -1.424695  0.109676  1.609382  3.610260   \n",
            "\n",
            "     emotion  \n",
            "0      happy  \n",
            "1      angry  \n",
            "2      angry  \n",
            "3       calm  \n",
            "4  surprised  \n",
            "\n",
            "[5 rows x 42 columns]\n"
          ]
        }
      ],
      "source": [
        "data = pd.read_csv('/content/DATASET_MFCC_Features.csv')\n",
        "\n",
        "print(data.head())"
      ]
    },
    {
      "cell_type": "code",
      "execution_count": null,
      "metadata": {
        "colab": {
          "base_uri": "https://localhost:8080/"
        },
        "id": "H4Il6G_uVDV3",
        "outputId": "96cd07c4-76da-4ef8-b53d-80e040c65cde"
      },
      "outputs": [
        {
          "data": {
            "text/plain": [
              "(4240, 42)"
            ]
          },
          "execution_count": 19,
          "metadata": {},
          "output_type": "execute_result"
        }
      ],
      "source": [
        "data.shape"
      ]
    },
    {
      "cell_type": "code",
      "execution_count": null,
      "metadata": {
        "colab": {
          "base_uri": "https://localhost:8080/"
        },
        "id": "7Frn4oCiVDTf",
        "outputId": "50e6da36-39ba-4507-ac6c-32f00df26907"
      },
      "outputs": [
        {
          "data": {
            "text/plain": [
              "Index(['Unnamed: 0', '0', '1', '2', '3', '4', '5', '6', '7', '8', '9', '10',\n",
              "       '11', '12', '13', '14', '15', '16', '17', '18', '19', '20', '21', '22',\n",
              "       '23', '24', '25', '26', '27', '28', '29', '30', '31', '32', '33', '34',\n",
              "       '35', '36', '37', '38', '39', 'emotion'],\n",
              "      dtype='object')"
            ]
          },
          "execution_count": 20,
          "metadata": {},
          "output_type": "execute_result"
        }
      ],
      "source": [
        "#printing all columns\n",
        "data.columns"
      ]
    },
    {
      "cell_type": "code",
      "execution_count": null,
      "metadata": {
        "id": "5DjQpf4EVDRI"
      },
      "outputs": [],
      "source": [
        "#dropping the column Unnamed: 0 to removed shuffled index\n",
        "data = data.drop('Unnamed: 0',axis=1)"
      ]
    },
    {
      "cell_type": "code",
      "execution_count": null,
      "metadata": {
        "colab": {
          "base_uri": "https://localhost:8080/"
        },
        "id": "uR799xPgh7O1",
        "outputId": "314ce917-3dd9-490b-fe6a-d1314457509f"
      },
      "outputs": [
        {
          "data": {
            "text/plain": [
              "(4240, 41)"
            ]
          },
          "execution_count": 22,
          "metadata": {},
          "output_type": "execute_result"
        }
      ],
      "source": [
        "data.shape"
      ]
    },
    {
      "cell_type": "code",
      "execution_count": null,
      "metadata": {
        "colab": {
          "base_uri": "https://localhost:8080/"
        },
        "id": "NC1ZrHmjVDOs",
        "outputId": "d4398d4a-a8dd-4b90-845f-752072ac8091"
      },
      "outputs": [
        {
          "data": {
            "text/plain": [
              "Index(['0', '1', '2', '3', '4', '5', '6', '7', '8', '9', '10', '11', '12',\n",
              "       '13', '14', '15', '16', '17', '18', '19', '20', '21', '22', '23', '24',\n",
              "       '25', '26', '27', '28', '29', '30', '31', '32', '33', '34', '35', '36',\n",
              "       '37', '38', '39', 'emotion'],\n",
              "      dtype='object')"
            ]
          },
          "execution_count": 23,
          "metadata": {},
          "output_type": "execute_result"
        }
      ],
      "source": [
        "data.columns"
      ]
    },
    {
      "cell_type": "code",
      "execution_count": null,
      "metadata": {
        "id": "k8U64FdvVDMg"
      },
      "outputs": [],
      "source": [
        "#separating features and target outputs\n",
        "X = data.drop('emotion', axis = 1).values\n",
        "y = data['emotion'].values"
      ]
    },
    {
      "cell_type": "code",
      "execution_count": null,
      "metadata": {
        "colab": {
          "base_uri": "https://localhost:8080/"
        },
        "id": "_67eUWWhVDHv",
        "outputId": "b26dce17-9d27-4abf-e0c3-a1cb45f07ff3"
      },
      "outputs": [
        {
          "data": {
            "text/plain": [
              "((4240, 40), (4240,))"
            ]
          },
          "execution_count": 25,
          "metadata": {},
          "output_type": "execute_result"
        }
      ],
      "source": [
        "X.shape, y.shape"
      ]
    },
    {
      "cell_type": "code",
      "execution_count": null,
      "metadata": {
        "colab": {
          "base_uri": "https://localhost:8080/"
        },
        "id": "oGtGS0DQVDFq",
        "outputId": "475b0e85-b3cf-412b-e29f-1190303f595c"
      },
      "outputs": [
        {
          "data": {
            "text/plain": [
              "array(['angry', 'calm', 'disgust', 'fear', 'happy', 'neutral', 'sad',\n",
              "       'surprised'], dtype=object)"
            ]
          },
          "execution_count": 26,
          "metadata": {},
          "output_type": "execute_result"
        }
      ],
      "source": [
        "np.unique(y)"
      ]
    },
    {
      "cell_type": "code",
      "execution_count": null,
      "metadata": {
        "id": "OkgEL3SeVDDZ"
      },
      "outputs": [],
      "source": [
        "from sklearn.model_selection import train_test_split\n",
        "\n",
        "X_train, X_test, y_train, y_test = train_test_split(X, y, test_size = 0.20)"
      ]
    },
    {
      "cell_type": "code",
      "execution_count": null,
      "metadata": {
        "id": "1BJoNwpEVDBB"
      },
      "outputs": [],
      "source": [
        "from sklearn.svm import SVC\n",
        "\n",
        "svclassifier = SVC(kernel = 'linear')"
      ]
    },
    {
      "cell_type": "code",
      "execution_count": null,
      "metadata": {
        "colab": {
          "base_uri": "https://localhost:8080/"
        },
        "id": "p2jrl9DjVYWD",
        "outputId": "5f47d0ee-a121-4912-8cbd-d1be4422d86b"
      },
      "outputs": [
        {
          "data": {
            "text/plain": [
              "SVC(kernel='linear')"
            ]
          },
          "execution_count": 29,
          "metadata": {},
          "output_type": "execute_result"
        }
      ],
      "source": [
        "svclassifier.fit(X_train, y_train)"
      ]
    },
    {
      "cell_type": "code",
      "execution_count": null,
      "metadata": {
        "id": "DonRkd17VYTQ"
      },
      "outputs": [],
      "source": [
        "y_pred = svclassifier.predict(X_test)"
      ]
    },
    {
      "cell_type": "code",
      "execution_count": null,
      "metadata": {
        "colab": {
          "base_uri": "https://localhost:8080/",
          "height": 555
        },
        "id": "XkXLOYyAVYOm",
        "outputId": "ca70567e-7817-4539-e929-71190bf2bd9a"
      },
      "outputs": [
        {
          "name": "stdout",
          "output_type": "stream",
          "text": [
            "              precision    recall  f1-score   support\n",
            "\n",
            "       angry       0.78      0.89      0.84       114\n",
            "        calm       0.54      0.63      0.58        43\n",
            "     disgust       0.79      0.79      0.79       125\n",
            "        fear       0.80      0.76      0.78       122\n",
            "       happy       0.79      0.70      0.74       140\n",
            "     neutral       0.87      0.75      0.81        83\n",
            "         sad       0.75      0.84      0.79       115\n",
            "   surprised       0.76      0.73      0.74       106\n",
            "\n",
            "    accuracy                           0.77       848\n",
            "   macro avg       0.76      0.76      0.76       848\n",
            "weighted avg       0.78      0.77      0.77       848\n",
            "\n",
            "Accuracy Score 77.24056603773585 \n"
          ]
        },
        {
          "data": {
            "image/png": "[encoded data removed]",
            "text/plain": [
              "<Figure size 432x288 with 2 Axes>"
            ]
          },
          "metadata": {},
          "output_type": "display_data"
        }
      ],
      "source": [
        "from sklearn.metrics import classification_report, confusion_matrix,accuracy_score\n",
        "import matplotlib.pyplot as plt\n",
        "import seaborn as sn\n",
        "\n",
        "print(classification_report(y_test,y_pred))\n",
        "\n",
        "acc = float(accuracy_score(y_test,y_pred))*100\n",
        "print(\"Accuracy Score %s \" % acc)\n",
        "\n",
        "cm = confusion_matrix(y_test,y_pred)\n",
        "df_cm = pd.DataFrame(cm)\n",
        "sn.heatmap(df_cm, annot=True, fmt='')\n",
        "plt.show()"
      ]
    },
    {
      "cell_type": "code",
      "execution_count": null,
      "metadata": {
        "colab": {
          "base_uri": "https://localhost:8080/"
        },
        "id": "giolPxHqVYMH",
        "outputId": "84aacc47-b916-4a09-adf8-be618f76ffec"
      },
      "outputs": [
        {
          "name": "stdout",
          "output_type": "stream",
          "text": [
            "Train Accuracy score 82.16391509433963 \n",
            "Test Accuracy score 77.24056603773585 \n"
          ]
        }
      ],
      "source": [
        "train_acc = float(svclassifier.score(X_train, y_train)*100)\n",
        "print(\"Train Accuracy score %s \" % train_acc)\n",
        "\n",
        "test_acc = float(svclassifier.score(X_test, y_test)*100)\n",
        "print(\"Test Accuracy score %s \" % test_acc)"
      ]
    },
    {
      "cell_type": "code",
      "execution_count": null,
      "metadata": {
        "colab": {
          "background_save": true
        },
        "id": "LkIdzTngVC-d",
        "outputId": "707209d9-1126-4785-faac-9acbb94b923c"
      },
      "outputs": [
        {
          "name": "stdout",
          "output_type": "stream",
          "text": [
            "[0.75943396 0.7629717  0.74528302 0.76533019 0.75117925]\n"
          ]
        }
      ],
      "source": [
        "from sklearn.model_selection import cross_val_score\n",
        "\n",
        "# no. of folds cv = 5\n",
        "cv_results = cross_val_score(svclassifier, X, y, cv = 5)\n",
        "print(cv_results)"
      ]
    },
    {
      "cell_type": "markdown",
      "metadata": {
        "id": "3LaEQVfhoRsk"
      },
      "source": [
        "Implementing Scaler SVM for better results."
      ]
    },
    {
      "cell_type": "code",
      "execution_count": null,
      "metadata": {
        "colab": {
          "background_save": true
        },
        "id": "uS5RWvTUVg5T",
        "outputId": "765e0e7d-605e-4522-adc9-e459b83300bb"
      },
      "outputs": [
        {
          "name": "stdout",
          "output_type": "stream",
          "text": [
            "Accuracy with Scaling: 0.8419811320754716\n",
            "Accuracy without Scaling: 0.7724056603773585\n"
          ]
        }
      ],
      "source": [
        "from sklearn.model_selection import train_test_split\n",
        "from sklearn.preprocessing import StandardScaler\n",
        "from sklearn.pipeline import Pipeline\n",
        "from sklearn.svm import SVC\n",
        "\n",
        "#splitting dataset into train/ test sets\n",
        "X_train, X_test, y_train, y_test = train_test_split(X, y, test_size = 0.20)\n",
        "\n",
        "# Setup the pipeline steps: steps\n",
        "steps = [('scaler', StandardScaler()),('SVM', SVC())]\n",
        "        \n",
        "# Create the pipeline: pipeline\n",
        "pipeline = Pipeline(steps)\n",
        "\n",
        "# Fit the pipeline to the training set: svc_scaled\n",
        "svc_scaled = pipeline.fit(X_train, y_train)\n",
        "\n",
        "# Instantiate and fit a classifier to the unscaled data\n",
        "svc_unscaled = SVC(kernel = 'linear').fit(X_train, y_train)\n",
        "\n",
        "# Compute and print metrics\n",
        "print('Accuracy with Scaling: {}'.format(svc_scaled.score(X_test, y_test)))\n",
        "print('Accuracy without Scaling: {}'.format(svc_unscaled.score(X_test, y_test)))"
      ]
    },
    {
      "cell_type": "code",
      "execution_count": null,
      "metadata": {
        "colab": {
          "background_save": true
        },
        "id": "qZdefkE1Vg3V",
        "outputId": "7fc51269-f8c0-45d4-c8eb-8a60ac50cb59"
      },
      "outputs": [
        {
          "name": "stdout",
          "output_type": "stream",
          "text": [
            "Train Accuracy Score 86.02594339622641 \n",
            "Test Accuracy Score 84.19811320754717 \n"
          ]
        }
      ],
      "source": [
        "train_acc = float(svc_scaled.score(X_train, y_train)*100)\n",
        "print(\"Train Accuracy Score %s \" % train_acc)\n",
        "\n",
        "test_acc = float(svc_scaled.score(X_test, y_test)*100)\n",
        "print(\"Test Accuracy Score %s \" % test_acc)"
      ]
    },
    {
      "cell_type": "code",
      "execution_count": null,
      "metadata": {
        "colab": {
          "background_save": true
        },
        "id": "dbKjCW-4hfnC",
        "outputId": "02b0f279-2da4-4bb2-c968-61a21c0c4ca3"
      },
      "outputs": [
        {
          "data": {
            "text/plain": [
              "(848, 40)"
            ]
          },
          "execution_count": 36,
          "metadata": {},
          "output_type": "execute_result"
        }
      ],
      "source": [
        "X_test.shape"
      ]
    },
    {
      "cell_type": "code",
      "execution_count": null,
      "metadata": {
        "colab": {
          "background_save": true
        },
        "id": "CdOtVdhtVg1E"
      },
      "outputs": [],
      "source": [
        "scaled_predictions = svc_scaled.predict(X_test)"
      ]
    },
    {
      "cell_type": "code",
      "execution_count": null,
      "metadata": {
        "colab": {
          "background_save": true
        },
        "id": "nQPB0hl8Vgy0",
        "outputId": "dae95ba5-3e42-4397-859c-ff050c089632"
      },
      "outputs": [
        {
          "name": "stdout",
          "output_type": "stream",
          "text": [
            "              precision    recall  f1-score   support\n",
            "\n",
            "       angry       0.91      0.92      0.92       140\n",
            "        calm       0.50      0.78      0.61        41\n",
            "     disgust       0.82      0.85      0.84       116\n",
            "        fear       0.95      0.79      0.86       115\n",
            "       happy       0.89      0.79      0.84       111\n",
            "     neutral       1.00      0.82      0.90        96\n",
            "         sad       0.78      0.82      0.80       111\n",
            "   surprised       0.80      0.89      0.84       118\n",
            "\n",
            "    accuracy                           0.84       848\n",
            "   macro avg       0.83      0.83      0.83       848\n",
            "weighted avg       0.86      0.84      0.85       848\n",
            "\n",
            "Accuracy Score 84.19811320754717 \n"
          ]
        },
        {
          "data": {
            "image/png": "[encoded data removed]",
            "text/plain": [
              "<Figure size 432x288 with 2 Axes>"
            ]
          },
          "metadata": {},
          "output_type": "display_data"
        }
      ],
      "source": [
        "from sklearn.metrics import classification_report, confusion_matrix,accuracy_score\n",
        "import seaborn as sn\n",
        "\n",
        "print(classification_report(y_test,scaled_predictions))\n",
        "\n",
        "acc = float(accuracy_score(y_test,scaled_predictions))*100\n",
        "print(\"Accuracy Score %s \" % acc)\n",
        "\n",
        "cm = confusion_matrix(y_test,scaled_predictions)\n",
        "df_cm = pd.DataFrame(cm)\n",
        "sn.heatmap(df_cm, annot=True, fmt='')\n",
        "plt.show()"
      ]
    },
    {
      "cell_type": "code",
      "execution_count": null,
      "metadata": {
        "colab": {
          "background_save": true
        },
        "id": "wS4VsloCVgwj",
        "outputId": "83ce83d3-d418-4b2b-d494-1383f002c2ac"
      },
      "outputs": [
        {
          "name": "stdout",
          "output_type": "stream",
          "text": [
            "[0.82900943 0.82311321 0.82075472 0.82665094 0.84080189]\n"
          ]
        }
      ],
      "source": [
        "from sklearn.model_selection import cross_val_score\n",
        "\n",
        "# no. of folds cv = 5\n",
        "cv_results = cross_val_score(svc_scaled, X, y, cv = 5)\n",
        "print(cv_results)"
      ]
    },
    {
      "cell_type": "markdown",
      "metadata": {
        "id": "RAPiqgXHotED"
      },
      "source": [
        "Saving Model for later use and avoid traing again and again."
      ]
    },
    {
      "cell_type": "code",
      "execution_count": null,
      "metadata": {
        "colab": {
          "background_save": true
        },
        "id": "hpDjsz8BaMTq"
      },
      "outputs": [],
      "source": [
        "filename = 'Speech_Emotion_Model.sav'\n",
        "pickle.dump(svc_scaled, open(filename, 'wb'))"
      ]
    },
    {
      "cell_type": "code",
      "execution_count": null,
      "metadata": {
        "colab": {
          "background_save": true
        },
        "id": "Fd9DgqRha82D"
      },
      "outputs": [],
      "source": [
        "loaded_model = pickle.load(open(filename, 'rb'))\n",
        "result = loaded_model.score(X_test, y_test)"
      ]
    },
    {
      "cell_type": "code",
      "execution_count": null,
      "metadata": {
        "colab": {
          "background_save": true
        },
        "id": "PCQ1PLG8bp7S",
        "outputId": "18643daa-1bd1-4950-bfe7-2d02116b4749"
      },
      "outputs": [
        {
          "name": "stdout",
          "output_type": "stream",
          "text": [
            "0.8419811320754716\n"
          ]
        }
      ],
      "source": [
        "print(result)"
      ]
    },
    {
      "cell_type": "markdown",
      "metadata": {
        "id": "5r5Fe_lGo9S5"
      },
      "source": [
        "Testing the Model directly on audio files.\n"
      ]
    },
    {
      "cell_type": "code",
      "execution_count": null,
      "metadata": {
        "colab": {
          "background_save": true
        },
        "id": "vRwvYhzIbxjn",
        "outputId": "f41c67f9-0aa6-4748-b1e7-ebca49bf9f2e"
      },
      "outputs": [
        {
          "name": "stdout",
          "output_type": "stream",
          "text": [
            "[-4.43618866e+02  9.68268051e+01 -7.95755565e-01  1.82904434e+00\n",
            "  2.13972831e+00  7.00742006e+00 -1.57385530e+01  8.55393314e+00\n",
            " -1.94862270e+01  6.44964314e+00 -1.76212311e+01  1.11565733e+00\n",
            " -5.97151756e+00  2.48450398e+00 -5.28810596e+00  3.24265003e+00\n",
            " -8.30478001e+00  1.06150961e+01 -2.35592484e+00  1.81242609e+00\n",
            "  8.90344799e-01  7.11553812e+00 -3.61981750e+00  5.65299940e+00\n",
            " -2.22670579e+00  3.42792869e+00 -2.65123439e+00  2.77803779e+00\n",
            " -1.34456813e+00  3.27406240e+00 -8.94153789e-02  1.89029002e+00\n",
            "  1.69543731e+00 -5.84377527e-01  2.33288741e+00  1.87584984e+00\n",
            "  4.46063280e+00  8.13544559e+00  1.27937841e+01  1.31227751e+01]\n",
            "['surprised']\n"
          ]
        }
      ],
      "source": [
        "path = '/content/drive/MyDrive/Speech_Emotion_Dataset/TESS/OAF_Pleasant_surprise/OAF_back_ps.wav'\n",
        "loaded_model = pickle.load(open(filename, 'rb'))\n",
        "X, sample_rate = librosa.load(os.path.join(path), res_type='kaiser_fast')\n",
        "result123=np.array([])\n",
        "mfccs=np.mean(librosa.feature.mfcc(y=X, sr=sample_rate, n_mfcc=40).T, axis=0)\n",
        "result123=np.hstack((result123, mfccs))\n",
        "print(result123)\n",
        "ans = loaded_model.predict([result123])\n",
        "result123.shape\n",
        "print(ans)\n",
        "  "
      ]
    }
  ],
  "metadata": {
    "colab": {
      "name": "speech app.ipynb",
      "provenance": []
    },
    "kernelspec": {
      "display_name": "Python 3",
      "name": "python3"
    },
    "language_info": {
      "name": "python"
    }
  },
  "nbformat": 4,
  "nbformat_minor": 0
}